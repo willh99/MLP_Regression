{
 "cells": [
  {
   "cell_type": "code",
   "execution_count": 1,
   "metadata": {},
   "outputs": [
    {
     "name": "stderr",
     "output_type": "stream",
     "text": [
      "/home/will/anaconda3/envs/python2.7/lib/python2.7/site-packages/statsmodels/compat/pandas.py:56: FutureWarning: The pandas.core.datetools module is deprecated and will be removed in a future version. Please use the pandas.tseries module instead.\n",
      "  from pandas.core import datetools\n"
     ]
    }
   ],
   "source": [
    "from sklearn import datasets\n",
    "import statsmodels.api as sm\n",
    "import numpy as np\n",
    "import pandas as pd\n",
    "import matplotlib.pyplot as plt\n",
    "\n",
    "df = pd.read_csv('elastic_multi1.txt', sep='\\s+', thousands=',')\n",
    "X = df.loc[:, 'cycles':'page-faults']\n",
    "y = df['Power']\n",
    "model = sm.OLS(y, X).fit()\n",
    "predictions = model.predict(X)"
   ]
  },
  {
   "cell_type": "code",
   "execution_count": 2,
   "metadata": {},
   "outputs": [
    {
     "data": {
      "text/html": [
       "<table class=\"simpletable\">\n",
       "<caption>OLS Regression Results</caption>\n",
       "<tr>\n",
       "  <th>Dep. Variable:</th>          <td>Power</td>      <th>  R-squared:         </th> <td>   0.917</td> \n",
       "</tr>\n",
       "<tr>\n",
       "  <th>Model:</th>                   <td>OLS</td>       <th>  Adj. R-squared:    </th> <td>   0.916</td> \n",
       "</tr>\n",
       "<tr>\n",
       "  <th>Method:</th>             <td>Least Squares</td>  <th>  F-statistic:       </th> <td>   934.6</td> \n",
       "</tr>\n",
       "<tr>\n",
       "  <th>Date:</th>             <td>Fri, 24 Nov 2017</td> <th>  Prob (F-statistic):</th> <td>1.79e-315</td>\n",
       "</tr>\n",
       "<tr>\n",
       "  <th>Time:</th>                 <td>16:21:08</td>     <th>  Log-Likelihood:    </th> <td> -1293.1</td> \n",
       "</tr>\n",
       "<tr>\n",
       "  <th>No. Observations:</th>      <td>   600</td>      <th>  AIC:               </th> <td>   2600.</td> \n",
       "</tr>\n",
       "<tr>\n",
       "  <th>Df Residuals:</th>          <td>   593</td>      <th>  BIC:               </th> <td>   2631.</td> \n",
       "</tr>\n",
       "<tr>\n",
       "  <th>Df Model:</th>              <td>     7</td>      <th>                     </th>     <td> </td>    \n",
       "</tr>\n",
       "<tr>\n",
       "  <th>Covariance Type:</th>      <td>nonrobust</td>    <th>                     </th>     <td> </td>    \n",
       "</tr>\n",
       "</table>\n",
       "<table class=\"simpletable\">\n",
       "<tr>\n",
       "          <td></td>            <th>coef</th>     <th>std err</th>      <th>t</th>      <th>P>|t|</th>  <th>[0.025</th>    <th>0.975]</th>  \n",
       "</tr>\n",
       "<tr>\n",
       "  <th>cycles</th>           <td> 2.247e-09</td> <td> 3.98e-09</td> <td>    0.564</td> <td> 0.573</td> <td>-5.57e-09</td> <td> 1.01e-08</td>\n",
       "</tr>\n",
       "<tr>\n",
       "  <th>instructions</th>     <td> 4.014e-10</td> <td> 1.23e-09</td> <td>    0.326</td> <td> 0.745</td> <td>-2.02e-09</td> <td> 2.82e-09</td>\n",
       "</tr>\n",
       "<tr>\n",
       "  <th>cache-references</th> <td> 1.819e-07</td> <td> 1.58e-07</td> <td>    1.155</td> <td> 0.249</td> <td>-1.28e-07</td> <td> 4.91e-07</td>\n",
       "</tr>\n",
       "<tr>\n",
       "  <th>cache-misses</th>     <td> 2.331e-06</td> <td> 8.95e-07</td> <td>    2.604</td> <td> 0.009</td> <td> 5.73e-07</td> <td> 4.09e-06</td>\n",
       "</tr>\n",
       "<tr>\n",
       "  <th>branches</th>         <td>-2.356e-08</td> <td> 9.38e-09</td> <td>   -2.511</td> <td> 0.012</td> <td> -4.2e-08</td> <td>-5.14e-09</td>\n",
       "</tr>\n",
       "<tr>\n",
       "  <th>branch-misses</th>    <td> 3.626e-07</td> <td> 2.08e-07</td> <td>    1.747</td> <td> 0.081</td> <td> -4.5e-08</td> <td>  7.7e-07</td>\n",
       "</tr>\n",
       "<tr>\n",
       "  <th>page-faults</th>      <td>    0.0014</td> <td> 6.03e-05</td> <td>   22.597</td> <td> 0.000</td> <td>    0.001</td> <td>    0.001</td>\n",
       "</tr>\n",
       "</table>\n",
       "<table class=\"simpletable\">\n",
       "<tr>\n",
       "  <th>Omnibus:</th>       <td>508.597</td> <th>  Durbin-Watson:     </th> <td>   1.805</td> \n",
       "</tr>\n",
       "<tr>\n",
       "  <th>Prob(Omnibus):</th> <td> 0.000</td>  <th>  Jarque-Bera (JB):  </th> <td>27751.442</td>\n",
       "</tr>\n",
       "<tr>\n",
       "  <th>Skew:</th>          <td> 3.340</td>  <th>  Prob(JB):          </th> <td>    0.00</td> \n",
       "</tr>\n",
       "<tr>\n",
       "  <th>Kurtosis:</th>      <td>35.641</td>  <th>  Cond. No.          </th> <td>2.91e+05</td> \n",
       "</tr>\n",
       "</table>"
      ],
      "text/plain": [
       "<class 'statsmodels.iolib.summary.Summary'>\n",
       "\"\"\"\n",
       "                            OLS Regression Results                            \n",
       "==============================================================================\n",
       "Dep. Variable:                  Power   R-squared:                       0.917\n",
       "Model:                            OLS   Adj. R-squared:                  0.916\n",
       "Method:                 Least Squares   F-statistic:                     934.6\n",
       "Date:                Fri, 24 Nov 2017   Prob (F-statistic):          1.79e-315\n",
       "Time:                        16:21:08   Log-Likelihood:                -1293.1\n",
       "No. Observations:                 600   AIC:                             2600.\n",
       "Df Residuals:                     593   BIC:                             2631.\n",
       "Df Model:                           7                                         \n",
       "Covariance Type:            nonrobust                                         \n",
       "====================================================================================\n",
       "                       coef    std err          t      P>|t|      [0.025      0.975]\n",
       "------------------------------------------------------------------------------------\n",
       "cycles            2.247e-09   3.98e-09      0.564      0.573   -5.57e-09    1.01e-08\n",
       "instructions      4.014e-10   1.23e-09      0.326      0.745   -2.02e-09    2.82e-09\n",
       "cache-references  1.819e-07   1.58e-07      1.155      0.249   -1.28e-07    4.91e-07\n",
       "cache-misses      2.331e-06   8.95e-07      2.604      0.009    5.73e-07    4.09e-06\n",
       "branches         -2.356e-08   9.38e-09     -2.511      0.012    -4.2e-08   -5.14e-09\n",
       "branch-misses     3.626e-07   2.08e-07      1.747      0.081    -4.5e-08     7.7e-07\n",
       "page-faults          0.0014   6.03e-05     22.597      0.000       0.001       0.001\n",
       "==============================================================================\n",
       "Omnibus:                      508.597   Durbin-Watson:                   1.805\n",
       "Prob(Omnibus):                  0.000   Jarque-Bera (JB):            27751.442\n",
       "Skew:                           3.340   Prob(JB):                         0.00\n",
       "Kurtosis:                      35.641   Cond. No.                     2.91e+05\n",
       "==============================================================================\n",
       "\n",
       "Warnings:\n",
       "[1] Standard Errors assume that the covariance matrix of the errors is correctly specified.\n",
       "[2] The condition number is large, 2.91e+05. This might indicate that there are\n",
       "strong multicollinearity or other numerical problems.\n",
       "\"\"\""
      ]
     },
     "execution_count": 2,
     "metadata": {},
     "output_type": "execute_result"
    }
   ],
   "source": [
    "model.summary()"
   ]
  },
  {
   "cell_type": "code",
   "execution_count": 3,
   "metadata": {},
   "outputs": [
    {
     "data": {
      "image/png": "[encoded data removed]",
      "text/plain": [
       "<matplotlib.figure.Figure at 0x7fb3cf6862d0>"
      ]
     },
     "metadata": {},
     "output_type": "display_data"
    }
   ],
   "source": [
    "fig, ax = plt.subplots()\n",
    "fig = sm.graphics.plot_fit(model, 0, ax=ax)\n",
    "ax.set_ylabel(\"Power\")\n",
    "ax.set_xlabel(\"Yes\")\n",
    "ax.set_title(\"Lin Reg\")\n",
    "plt.show()"
   ]
  },
  {
   "cell_type": "code",
   "execution_count": null,
   "metadata": {
    "collapsed": true
   },
   "outputs": [],
   "source": []
  }
 ],
 "metadata": {
  "kernelspec": {
   "display_name": "Python 2",
   "language": "python",
   "name": "python2"
  },
  "language_info": {
   "codemirror_mode": {
    "name": "ipython",
    "version": 2
   },
   "file_extension": ".py",
   "mimetype": "text/x-python",
   "name": "python",
   "nbconvert_exporter": "python",
   "pygments_lexer": "ipython2",
   "version": "2.7.14"
  }
 },
 "nbformat": 4,
 "nbformat_minor": 2
}
